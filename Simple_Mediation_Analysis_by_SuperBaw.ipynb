{
  "nbformat": 4,
  "nbformat_minor": 0,
  "metadata": {
    "colab": {
      "provenance": []
    },
    "kernelspec": {
      "name": "python3",
      "display_name": "Python 3"
    },
    "language_info": {
      "name": "python"
    }
  },
  "cells": [
    {
      "cell_type": "markdown",
      "source": [
        "**SIMPLE MEDIATION ANALYSIS USING PYTHON**"
      ],
      "metadata": {
        "id": "K7gG-x5rawYT"
      }
    },
    {
      "cell_type": "code",
      "source": [
        "# Install necessary packages\n",
        "!pip install pandas statsmodels seaborn"
      ],
      "metadata": {
        "id": "znK5_e0Ra1H1"
      },
      "execution_count": null,
      "outputs": []
    },
    {
      "cell_type": "code",
      "source": [
        "# Import libraries\n",
        "import pandas as pd\n",
        "import statsmodels.api as sm\n",
        "import statsmodels.formula.api as smf\n",
        "import seaborn as sns\n",
        "import matplotlib.pyplot as plt\n",
        "import numpy as np\n",
        "from scipy import stats\n",
        "import networkx as nx\n",
        "import matplotlib.patches as mpatches"
      ],
      "metadata": {
        "id": "Six5z5xOa5Cq"
      },
      "execution_count": null,
      "outputs": []
    },
    {
      "cell_type": "code",
      "source": [
        "# Load the data\n",
        "data = pd.read_csv('DIRECT LINK OF THE SPREADSHEET IN CSV FORMAT')"
      ],
      "metadata": {
        "id": "564_F69oa8YC"
      },
      "execution_count": null,
      "outputs": []
    },
    {
      "cell_type": "code",
      "source": [
        "# Display the first few rows of the dataframe to check the data\n",
        "print(data.head(3))"
      ],
      "metadata": {
        "id": "12J0H3fhbELF"
      },
      "execution_count": null,
      "outputs": []
    },
    {
      "cell_type": "code",
      "source": [
        "# Define the variables\n",
        "X = data['VARIABLE NAME OF PREDICTOR'] #Use the name writte in the spreadsheet\n",
        "M = data['VARIABLE NAME OF MEDIATOR'] #Use the name writte in the spreadsheet\n",
        "Y = data['VARIABLE NAME OF OUTCOME'] #Use the name writte in the spreadsheet"
      ],
      "metadata": {
        "id": "S4-a6-xabKSn"
      },
      "execution_count": null,
      "outputs": []
    },
    {
      "cell_type": "code",
      "source": [
        "# Path A: X → M\n",
        "model_a = smf.ols('M ~ X', data=data).fit()\n",
        "print(model_a.summary())"
      ],
      "metadata": {
        "id": "lIQ6r6Trbcla"
      },
      "execution_count": null,
      "outputs": []
    },
    {
      "cell_type": "code",
      "source": [
        "# Path B: M → Y (including X as a control variable)\n",
        "model_b = smf.ols('Y ~ M + X', data=data).fit()\n",
        "print(model_b.summary())"
      ],
      "metadata": {
        "id": "P6wBd7DLbgNc"
      },
      "execution_count": null,
      "outputs": []
    },
    {
      "cell_type": "code",
      "source": [
        "# Path C: X → Y (total effect)\n",
        "model_c = smf.ols('Y ~ X', data=data).fit()\n",
        "print(model_c.summary())"
      ],
      "metadata": {
        "id": "Ch2P-JXEbjVj"
      },
      "execution_count": null,
      "outputs": []
    },
    {
      "cell_type": "code",
      "source": [
        "# Calculate direct effect (Path C')\n",
        "direct_effect = model_b.params['X']\n",
        "direct_effect_se = model_b.bse['X']\n",
        "direct_effect_zval = model_b.tvalues['X']\n",
        "direct_effect_pval = model_b.pvalues['X']"
      ],
      "metadata": {
        "id": "Hp6Y0rBUbnFK"
      },
      "execution_count": null,
      "outputs": []
    },
    {
      "cell_type": "code",
      "source": [
        "# Calculate indirect effect (Path A * Path B)\n",
        "indirect_effect = model_a.params['X'] * model_b.params['M']\n",
        "indirect_effect_se = np.sqrt((model_a.params['X']**2 * model_b.bse['M']**2) + (model_b.params['M']**2 * model_a.bse['X']**2))\n",
        "indirect_effect_zval = indirect_effect / indirect_effect_se\n",
        "indirect_effect_pval = stats.norm.sf(np.abs(indirect_effect_zval)) * 2"
      ],
      "metadata": {
        "id": "0QJZSjaWbqQ9"
      },
      "execution_count": null,
      "outputs": []
    },
    {
      "cell_type": "code",
      "source": [
        "# Calculate total effect (Path C)\n",
        "total_effect = model_c.params['X']\n",
        "total_effect_se = model_c.bse['X']\n",
        "total_effect_zval = model_c.tvalues['X']\n",
        "total_effect_pval = model_c.pvalues['X']"
      ],
      "metadata": {
        "id": "vipcPebibtG6"
      },
      "execution_count": null,
      "outputs": []
    },
    {
      "cell_type": "code",
      "source": [
        "# Print results\n",
        "print(\"Direct Effect:\")\n",
        "print(f\"  Estimate: {direct_effect}\")\n",
        "print(f\"  Standard Error: {direct_effect_se}\")\n",
        "print(f\"  Z Value: {direct_effect_zval}\")\n",
        "print(f\"  P Value: {direct_effect_pval}\\n\")\n",
        "\n",
        "print(\"Indirect Effect:\")\n",
        "print(f\"  Estimate: {indirect_effect}\")\n",
        "print(f\"  Standard Error: {indirect_effect_se}\")\n",
        "print(f\"  Z Value: {indirect_effect_zval}\")\n",
        "print(f\"  P Value: {indirect_effect_pval}\\n\")\n",
        "\n",
        "print(\"Total Effect:\")\n",
        "print(f\"  Estimate: {total_effect}\")\n",
        "print(f\"  Standard Error: {total_effect_se}\")\n",
        "print(f\"  Z Value: {total_effect_zval}\")\n",
        "print(f\"  P Value: {total_effect_pval}\")"
      ],
      "metadata": {
        "id": "og84S-mdbx-2"
      },
      "execution_count": null,
      "outputs": []
    },
    {
      "cell_type": "code",
      "source": [
        "# Visualization\n",
        "# Create a directed graph\n",
        "G = nx.DiGraph()\n",
        "\n",
        "# Add nodes with positions\n",
        "G.add_node(\"X\", pos=(0, 0))\n",
        "G.add_node(\"M\", pos=(2, 2))\n",
        "G.add_node(\"Y\", pos=(4, 0))\n",
        "\n",
        "# Add edges with weights\n",
        "G.add_edge(\"X\", \"M\", weight=model_a.params['X'])\n",
        "G.add_edge(\"M\", \"Y\", weight=model_b.params['M'])\n",
        "G.add_edge(\"X\", \"Y\", weight=total_effect)\n",
        "\n",
        "# Get positions of nodes\n",
        "pos = nx.get_node_attributes(G, 'pos')\n",
        "\n",
        "# Define short labels for nodes\n",
        "short_labels = {\"X\": \"Trt\", \"M\": \"Sct\", \"Y\": \"Agg\"}\n",
        "nx.draw_networkx_labels(G, pos, short_labels, font_size=12)\n",
        "\n",
        "# Draw nodes and edges\n",
        "nx.draw(G, pos, with_labels=False, node_size=2000, node_color='pink', font_size=12, arrowsize=20, node_shape='s')\n",
        "\n",
        "# Define full descriptions for the legend\n",
        "full_descriptions = {\n",
        "    \"Trt\": \"Trash-talking\",\n",
        "    \"Sct\": \"Screen time\",\n",
        "    \"Agg\": \"Aggression\"\n",
        "}\n",
        "\n",
        "# Draw edge labels\n",
        "edge_labels = {(u, v): f\"{G[u][v]['weight']:.2f}\" for u, v in G.edges()}\n",
        "nx.draw_networkx_edge_labels(G, pos, edge_labels=edge_labels, font_size=10)\n",
        "\n",
        "# Create legend\n",
        "legend_patches = [mpatches.Patch(color='pink', label=f\"{short}: {full}\") for short, full in full_descriptions.items()]\n",
        "plt.legend(handles=legend_patches, loc='upper left')\n",
        "\n",
        "# Add title\n",
        "plt.title(\"Simple Mediation Path Plot\")\n",
        "\n",
        "# Show plot\n",
        "plt.show()"
      ],
      "metadata": {
        "id": "r0hHiK3wb0ti"
      },
      "execution_count": null,
      "outputs": []
    },
    {
      "cell_type": "markdown",
      "source": [
        "**HOP THIS HELPS! -SUPER BAW**"
      ],
      "metadata": {
        "id": "gET3RcoScAct"
      }
    }
  ]
}